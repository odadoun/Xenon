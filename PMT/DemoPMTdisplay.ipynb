{
 "cells": [
  {
   "cell_type": "markdown",
   "id": "94673ff2",
   "metadata": {},
   "source": [
    "# import PMT"
   ]
  },
  {
   "cell_type": "code",
   "execution_count": null,
   "id": "308903fa",
   "metadata": {},
   "outputs": [],
   "source": [
    "from bokeh.io import show, output_notebook\n",
    "import PMT as pmt\n",
    "import pandas as pd"
   ]
  },
  {
   "cell_type": "markdown",
   "id": "31f22417",
   "metadata": {},
   "source": [
    "# show PMT WRT to his number"
   ]
  },
  {
   "cell_type": "code",
   "execution_count": null,
   "id": "b55c17ed",
   "metadata": {
    "scrolled": true
   },
   "outputs": [],
   "source": [
    "a = pmt.Display()\n",
    "a.showPMT()"
   ]
  },
  {
   "cell_type": "markdown",
   "id": "6e48ec19",
   "metadata": {},
   "source": [
    "# Test animation with fake pandas"
   ]
  },
  {
   "cell_type": "code",
   "execution_count": null,
   "id": "22f4758e",
   "metadata": {},
   "outputs": [],
   "source": [
    "#format of the pandas should be i j hits index is animation value\n",
    "# hits is a dictionnary {PMT 0:hits val0, PMT1:hits val1 ... PMT493:hits val493} \n",
    "import random\n",
    "def dicohits():\n",
    " return {pmt:random.randrange(0,50) for pmt in range(494)}\n",
    "values=[ pd.Series({'i':i, 'j':i%5, 'hits':dicohits()}) for i in range(51)]\n",
    "mypandas=pd.DataFrame(values)"
   ]
  },
  {
   "cell_type": "code",
   "execution_count": null,
   "id": "a9f10713",
   "metadata": {},
   "outputs": [],
   "source": [
    "a.updatePMT(mypandas)"
   ]
  }
 ],
 "metadata": {
  "kernelspec": {
   "display_name": "Python 3 (ipykernel)",
   "language": "python",
   "name": "python3"
  },
  "language_info": {
   "codemirror_mode": {
    "name": "ipython",
    "version": 3
   },
   "file_extension": ".py",
   "mimetype": "text/x-python",
   "name": "python",
   "nbconvert_exporter": "python",
   "pygments_lexer": "ipython3",
   "version": "3.9.6"
  }
 },
 "nbformat": 4,
 "nbformat_minor": 5
}
