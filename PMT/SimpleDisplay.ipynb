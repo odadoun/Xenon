{
 "cells": [
  {
   "cell_type": "markdown",
   "id": "94673ff2",
   "metadata": {},
   "source": [
    "# import PMT"
   ]
  },
  {
   "cell_type": "code",
   "execution_count": null,
   "id": "308903fa",
   "metadata": {},
   "outputs": [],
   "source": [
    "from bokeh.io import show, output_notebook\n",
    "import PMT as pmt\n",
    "import pandas as pd"
   ]
  },
  {
   "cell_type": "markdown",
   "id": "31f22417",
   "metadata": {},
   "source": [
    "# show PMT WRT to his number"
   ]
  },
  {
   "cell_type": "code",
   "execution_count": null,
   "id": "b55c17ed",
   "metadata": {
    "scrolled": true
   },
   "outputs": [],
   "source": [
    "a = pmt.Display('Log')\n",
    "a.showPMT()"
   ]
  },
  {
   "cell_type": "markdown",
   "id": "9bce6375",
   "metadata": {},
   "source": [
    "# Add welding line and dead PMT "
   ]
  },
  {
   "cell_type": "code",
   "execution_count": null,
   "id": "c48486a8",
   "metadata": {},
   "outputs": [],
   "source": [
    "display = pmt.Display()\n",
    "display.addweldingling(0)\n",
    "deadPMTs = [108, 121, 156, 164, 177, 291, 313, 350, 352, 354, 362, 386, 393, 427, 442, 461]\n",
    "display.showPrecisePMT(deadPMTs,'green')\n",
    "display.showPMT()"
   ]
  },
  {
   "cell_type": "markdown",
   "id": "07852af8",
   "metadata": {},
   "source": [
    "# Convert ROOT into Pandas dataframe using RootParser\n",
    "## rootfile from MC Geant4 \n",
    "## only hits are retrieve - hack yourself the PM.py code to do whatever you want ..."
   ]
  },
  {
   "cell_type": "code",
   "execution_count": null,
   "id": "9a7d5781",
   "metadata": {},
   "outputs": [],
   "source": [
    "c = pmt.RootParser()"
   ]
  },
  {
   "cell_type": "code",
   "execution_count": null,
   "id": "b910d1a6",
   "metadata": {},
   "outputs": [],
   "source": [
    "allpandas = c.root2pandas('photonS2_18326117.root',norm=False)   \n",
    "allpandas"
   ]
  }
 ],
 "metadata": {
  "kernelspec": {
   "display_name": "Python 3 (ipykernel)",
   "language": "python",
   "name": "python3"
  },
  "language_info": {
   "codemirror_mode": {
    "name": "ipython",
    "version": 3
   },
   "file_extension": ".py",
   "mimetype": "text/x-python",
   "name": "python",
   "nbconvert_exporter": "python",
   "pygments_lexer": "ipython3",
   "version": "3.9.17"
  }
 },
 "nbformat": 4,
 "nbformat_minor": 5
}
