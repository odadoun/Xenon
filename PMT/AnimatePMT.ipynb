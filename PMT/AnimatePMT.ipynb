{
 "cells": [
  {
   "cell_type": "markdown",
   "id": "5da6ce96",
   "metadata": {},
   "source": [
    "# import PMT"
   ]
  },
  {
   "cell_type": "code",
   "execution_count": null,
   "id": "308903fa",
   "metadata": {},
   "outputs": [],
   "source": [
    "import PMT as pmt\n",
    "import pandas as pd"
   ]
  },
  {
   "cell_type": "markdown",
   "id": "b9cf6bb4",
   "metadata": {},
   "source": [
    "# show PMT WRT to his number"
   ]
  },
  {
   "cell_type": "code",
   "execution_count": null,
   "id": "b55c17ed",
   "metadata": {},
   "outputs": [],
   "source": [
    "a = pmt.Display()\n",
    "a.showPMT()"
   ]
  },
  {
   "cell_type": "markdown",
   "id": "a33a1a3c",
   "metadata": {},
   "source": [
    "# import ROOT file using uproot"
   ]
  },
  {
   "cell_type": "code",
   "execution_count": null,
   "id": "b910d1a6",
   "metadata": {},
   "outputs": [],
   "source": [
    "import uproot\n",
    "file = uproot.open('1-100.root')\n",
    "whichhisto=file"
   ]
  },
  {
   "cell_type": "markdown",
   "id": "e1a1628f",
   "metadata": {},
   "source": [
    "# convert ROOT-> pandas for display purpose"
   ]
  },
  {
   "cell_type": "code",
   "execution_count": null,
   "id": "cd6fa5a5",
   "metadata": {},
   "outputs": [],
   "source": [
    "import matplotlib.pyplot as plt\n",
    "import matplotlib.cm as cm\n",
    "import matplotlib as mpl\n",
    "cmap = cm.get_cmap(\"Spectral\")\n",
    "colormap = plt.get_cmap('Set1').reversed()\n",
    "print(tuple(255*x for x in colormap(0.2)))\n",
    "def hist2pandas(strhisto,index=None):    \n",
    "        strhisto=strhisto.replace(';1','')\n",
    "        val=file[strhisto].values()\n",
    "        i,j=a.retrieveij(strhisto)\n",
    "        d={i:(tuple(255*x for x in list(colormap(v/val.max()))) if val.max()!=0. else [0.,0.,0, 1] ) for i,v in enumerate(val)}\n",
    "        if index is None:\n",
    "            index = 0\n",
    "        ll=[i,j,d]\n",
    "        mypd = pd.DataFrame([ll],index=[index], columns=['i','j','color']).astype({'i': 'int32','j':'int32'})\n",
    "        return mypd"
   ]
  },
  {
   "cell_type": "code",
   "execution_count": null,
   "id": "3c61ff1c",
   "metadata": {},
   "outputs": [],
   "source": [
    "allpandas=pd.DataFrame()\n",
    "for n,x in enumerate(file):\n",
    "    if n>200 and n<400:\n",
    "        if allpandas.empty:\n",
    "            allpandas = hist2pandas(x,n)\n",
    "        else:    \n",
    "            allpandas=pd.concat([allpandas,hist2pandas(x,n)])\n"
   ]
  },
  {
   "cell_type": "code",
   "execution_count": null,
   "id": "212b9e13",
   "metadata": {},
   "outputs": [],
   "source": [
    "a.updatePMT(allpandas)"
   ]
  },
  {
   "cell_type": "code",
   "execution_count": null,
   "id": "6cfda686",
   "metadata": {},
   "outputs": [],
   "source": []
  }
 ],
 "metadata": {
  "kernelspec": {
   "display_name": "Python 3 (ipykernel)",
   "language": "python",
   "name": "python3"
  },
  "language_info": {
   "codemirror_mode": {
    "name": "ipython",
    "version": 3
   },
   "file_extension": ".py",
   "mimetype": "text/x-python",
   "name": "python",
   "nbconvert_exporter": "python",
   "pygments_lexer": "ipython3",
   "version": "3.9.6"
  }
 },
 "nbformat": 4,
 "nbformat_minor": 5
}
