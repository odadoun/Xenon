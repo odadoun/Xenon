{
 "cells": [
  {
   "cell_type": "markdown",
   "id": "94673ff2",
   "metadata": {},
   "source": [
    "# import PMT"
   ]
  },
  {
   "cell_type": "code",
   "execution_count": null,
   "id": "308903fa",
   "metadata": {},
   "outputs": [],
   "source": [
    "from bokeh.io import show, output_notebook\n",
    "import PMT as pmt\n",
    "import pandas as pd"
   ]
  },
  {
   "cell_type": "markdown",
   "id": "31f22417",
   "metadata": {},
   "source": [
    "# show PMT WRT to his number"
   ]
  },
  {
   "cell_type": "code",
   "execution_count": null,
   "id": "b55c17ed",
   "metadata": {
    "scrolled": true
   },
   "outputs": [],
   "source": [
    "a = pmt.Display('Log')\n",
    "#a.showPMT()"
   ]
  },
  {
   "cell_type": "markdown",
   "id": "1c81109c",
   "metadata": {},
   "source": [
    "# import ROOT file using uproot"
   ]
  },
  {
   "cell_type": "code",
   "execution_count": null,
   "id": "b910d1a6",
   "metadata": {},
   "outputs": [],
   "source": [
    "import uproot\n",
    "file = uproot.open('1_50.root')\n",
    "whichhisto=file"
   ]
  },
  {
   "cell_type": "code",
   "execution_count": null,
   "id": "ee6c5cc2",
   "metadata": {},
   "outputs": [],
   "source": [
    "#file['hist0_110;1'].axis().edges()"
   ]
  },
  {
   "cell_type": "markdown",
   "id": "04999677",
   "metadata": {},
   "source": [
    "# convert ROOT-> pandas for display purpose"
   ]
  },
  {
   "cell_type": "code",
   "execution_count": null,
   "id": "cd6fa5a5",
   "metadata": {},
   "outputs": [],
   "source": [
    "from bokeh.colors import RGB\n",
    "from bokeh.models import ColorBar, LogColorMapper,LinearColorMapper\n",
    "import matplotlib.pyplot as plt\n",
    "import matplotlib.cm as cm\n",
    "import matplotlib as mpl\n",
    "import numpy as np\n",
    "Rtpc=66.2\n",
    "deltax=1.0\n",
    "deltay=0.5\n",
    "Nx=np.ceil(2*Rtpc/deltax)\n",
    "Ny=np.ceil(2*Rtpc/deltay)\n",
    "\n",
    "def retrieveij(strhistname):\n",
    "    '''\n",
    "    String manipulation purpose\n",
    "    '''\n",
    "    strhistname=strhistname.replace(';1','')\n",
    "    strhistname=strhistname.replace('hist','')\n",
    "    i=int(strhistname[:strhistname.find('_')])\n",
    "    j=int(strhistname[strhistname.find('_')+1:])\n",
    "    x=((i+1)/Nx)*2*Rtpc-Rtpc\n",
    "    y=((j+1)/Ny)*2*Rtpc-Rtpc\n",
    "    return i,j,x,y\n",
    "\n",
    "def rotation(x,y):\n",
    "    a=np.sqrt(3)/2\n",
    "    xp = (a*x+0.5*y)/(a*a+0.25)\n",
    "    yp = (y-0.5*xp)/a\n",
    "    return xp,yp\n",
    "    \n",
    "\n",
    "def hist2pandas(strhisto,index=None):    \n",
    "        strhisto=strhisto.replace(';1','')\n",
    "        val=file[strhisto].values()\n",
    "        i,j,x,y=retrieveij(strhisto)\n",
    "        d={i:v for i,v in enumerate(val)}\n",
    "        if index is None:\n",
    "            index = 0\n",
    "        x,y=rotation(x,y)    \n",
    "        ll=[i,j,x,y,d]\n",
    "        mypd = pd.DataFrame([ll],index=[index], columns=['i','j','xextra','yextra','hits'])\n",
    "        return mypd"
   ]
  },
  {
   "cell_type": "code",
   "execution_count": null,
   "id": "3c61ff1c",
   "metadata": {},
   "outputs": [],
   "source": [
    "allpandas=pd.DataFrame()\n",
    "for n,x in enumerate(file):\n",
    "    if n>10000 and n<11000:\n",
    "        if allpandas.empty:\n",
    "            allpandas = hist2pandas(x,n)\n",
    "        else:    \n",
    "            allpandas=pd.concat([allpandas,hist2pandas(x,n)])"
   ]
  },
  {
   "cell_type": "code",
   "execution_count": null,
   "id": "e488f3ae",
   "metadata": {},
   "outputs": [],
   "source": [
    "allpandas.iloc[0]['hits'][0]"
   ]
  },
  {
   "cell_type": "code",
   "execution_count": null,
   "id": "212b9e13",
   "metadata": {},
   "outputs": [],
   "source": [
    "a.updatePMT(allpandas)"
   ]
  }
 ],
 "metadata": {
  "kernelspec": {
   "display_name": "Python 3 (ipykernel)",
   "language": "python",
   "name": "python3"
  },
  "language_info": {
   "codemirror_mode": {
    "name": "ipython",
    "version": 3
   },
   "file_extension": ".py",
   "mimetype": "text/x-python",
   "name": "python",
   "nbconvert_exporter": "python",
   "pygments_lexer": "ipython3",
   "version": "3.9.6"
  }
 },
 "nbformat": 4,
 "nbformat_minor": 5
}
